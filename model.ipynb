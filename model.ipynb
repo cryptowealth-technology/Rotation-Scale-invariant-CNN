{
 "metadata": {
  "language_info": {
   "codemirror_mode": {
    "name": "ipython",
    "version": 3
   },
   "file_extension": ".py",
   "mimetype": "text/x-python",
   "name": "python",
   "nbconvert_exporter": "python",
   "pygments_lexer": "ipython3",
   "version": "3.7.9-final"
  },
  "orig_nbformat": 2,
  "kernelspec": {
   "name": "Python 3.7.9 64-bit",
   "display_name": "Python 3.7.9 64-bit",
   "metadata": {
    "interpreter": {
     "hash": "7945e9a82d7512fbf96246d9bbc29cd2f106c1a4a9cf54c9563dadf10f2237d4"
    }
   }
  }
 },
 "nbformat": 4,
 "nbformat_minor": 2,
 "cells": [
  {
   "cell_type": "code",
   "execution_count": 1,
   "metadata": {},
   "outputs": [],
   "source": [
    "import numpy as np\n",
    "from utils.array import cyclic_padding\n",
    "\n",
    "kid = [ cyclic_padding( np.loadtxt(f'data/feature_array/kid{i}.txt'), axis=1 )\n",
    "        for i in range(18) ]\n",
    "other = [ cyclic_padding( np.loadtxt(f'data/feature_array/other{i}.txt'), axis=1 )\n",
    "        for i in range(16) ]\n",
    "\n",
    "maxlen = max( img.shape[0] for img in (kid + other) )\n",
    "\n",
    "X = np.zeros( (18+16, maxlen, 19), dtype=np.float )\n",
    "# y = np.array( [[1, 0]]*18 + [[0, 1]]*16 )\n",
    "y = np.array( [1]*18 + [0]* 16)\n",
    "\n",
    "for i, img in enumerate(kid + other):\n",
    "    h, _ = img.shape\n",
    "    X[i, :h] = img\n",
    "del kid, other\n",
    "\n",
    "X = X[:, :, :, np.newaxis]"
   ]
  },
  {
   "cell_type": "code",
   "execution_count": 415,
   "metadata": {},
   "outputs": [],
   "source": [
    "from keras.layers import Input, GlobalMaxPool2D, Conv2D, LeakyReLU, Activation\n",
    "from keras.regularizers import l2\n",
    "from keras.optimizers import SGD\n",
    "from keras.activations import selu\n",
    "from keras.models import Model\n",
    "from utils.layers import Dilated2D\n",
    "\n",
    "inp = Input(shape=(maxlen, 19, 1) )\n",
    "conv = Dilated2D(filters=1, \n",
    "                 kernel_size=(9, 10),\n",
    "                 dilation_rate=((12, 7, 5, 4, 3, 3, 2, 2), 1), \n",
    "                 activation='linear',\n",
    "                 kernel_regularizer=l2(0.0001),\n",
    "                 use_bias=False\n",
    "                 )(inp)\n",
    "sig = GlobalMaxPool2D()(conv)\n",
    "out = LeakyReLU(0.1)(sig)\n",
    "# out = Activation('sigmoid')(out)\n",
    "# true = Activation('sigmoid')(sig)\n",
    "# false = 1 - true\n",
    "# out = Concatenate()([true, false])\n",
    "model = Model(inp, out)\n",
    "model.compile(\n",
    "              optimizer='adam',\n",
    "            #   optimizer=SGD(lr=0.000001), \n",
    "              loss='mse'\n",
    "            #   loss='binary_crossentropy'\n",
    ")"
   ]
  },
  {
   "cell_type": "code",
   "execution_count": 419,
   "metadata": {
    "tags": []
   },
   "outputs": [
    {
     "output_type": "stream",
     "name": "stdout",
     "text": [
      "Epoch 1/10\n",
      "34/34 [==============================] - 0s 2ms/step - loss: 3695533898812.2646\n",
      "Epoch 2/10\n",
      "34/34 [==============================] - 0s 2ms/step - loss: 3694217380803.8232\n",
      "Epoch 3/10\n",
      "34/34 [==============================] - 0s 2ms/step - loss: 3693601899580.2354\n",
      "Epoch 4/10\n",
      "34/34 [==============================] - 0s 2ms/step - loss: 3695617538168.4707\n",
      "Epoch 5/10\n",
      "34/34 [==============================] - 0s 2ms/step - loss: 3700437286912.0591\n",
      "Epoch 6/10\n",
      "34/34 [==============================] - 0s 4ms/step - loss: 3703971902915.7646\n",
      "Epoch 7/10\n",
      "34/34 [==============================] - 0s 1ms/step - loss: 3706462527969.9409\n",
      "Epoch 8/10\n",
      "34/34 [==============================] - 0s 2ms/step - loss: 3708092385159.5879\n",
      "Epoch 9/10\n",
      "34/34 [==============================] - 0s 2ms/step - loss: 3709023520647.5591\n",
      "Epoch 10/10\n",
      "34/34 [==============================] - 0s 2ms/step - loss: 3709383737344.0293\n"
     ]
    },
    {
     "output_type": "execute_result",
     "data": {
      "text/plain": [
       "<keras.callbacks.callbacks.History at 0x1ab6cd43f48>"
      ]
     },
     "metadata": {},
     "execution_count": 419
    }
   ],
   "source": [
    "model.fit(X, y, epochs=1000, verbose=0)\n",
    "model.fit(X, y, epochs=10, verbose=1)\n"
   ]
  },
  {
   "cell_type": "code",
   "execution_count": 420,
   "metadata": {},
   "outputs": [
    {
     "output_type": "execute_result",
     "data": {
      "text/plain": [
       "array([[        0.],\n",
       "       [        0.],\n",
       "       [        0.],\n",
       "       [        0.],\n",
       "       [        0.],\n",
       "       [        0.],\n",
       "       [        0.],\n",
       "       [        0.],\n",
       "       [        0.],\n",
       "       [        0.],\n",
       "       [        0.],\n",
       "       [        0.],\n",
       "       [        0.],\n",
       "       [        0.],\n",
       "       [-11229385.],\n",
       "       [        0.],\n",
       "       [        0.],\n",
       "       [        0.],\n",
       "       [        0.],\n",
       "       [        0.],\n",
       "       [        0.],\n",
       "       [        0.],\n",
       "       [   116864.],\n",
       "       [        0.],\n",
       "       [        0.],\n",
       "       [        0.],\n",
       "       [        0.],\n",
       "       [        0.],\n",
       "       [        0.],\n",
       "       [        0.],\n",
       "       [    54400.],\n",
       "       [        0.],\n",
       "       [        0.],\n",
       "       [        0.]], dtype=float32)"
      ]
     },
     "metadata": {},
     "execution_count": 420
    }
   ],
   "source": [
    "model.predict(X)"
   ]
  },
  {
   "cell_type": "code",
   "execution_count": null,
   "metadata": {},
   "outputs": [],
   "source": []
  }
 ]
}